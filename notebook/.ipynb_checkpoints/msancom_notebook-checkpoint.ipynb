{
 "cells": [
  {
   "cell_type": "markdown",
   "id": "25876cd5",
   "metadata": {},
   "source": [
    "### msancom pipeline plan\n",
    "\n",
    "1. One reference fasta proteins file, up to five query proteins annotation files in fasta format\n",
    "2. Easyclust with mmseq2\n",
    "3. Cluster table to Vemn diagram"
   ]
  },
  {
   "cell_type": "code",
   "execution_count": 1,
   "id": "2d57d439",
   "metadata": {},
   "outputs": [],
   "source": [
    "## inputs (test_anotations folder)\n",
    "\n",
    "toga = \"../test_annotations/toga.faa\"\n",
    "metaeuk = \"../test_annotations/metaeuk.faa\"\n",
    "augustus = \"../test_annotations/augustus.faa\"\n",
    "braker = \"../test_annotations/braker2.faa\"\n",
    "ncbi = \"../test_annotations/reference_ncbi.faa\""
   ]
  },
  {
   "cell_type": "code",
   "execution_count": null,
   "id": "4c1ed0a1",
   "metadata": {},
   "outputs": [],
   "source": [
    "## run mmseq easyclust with default parameters \n",
    "## https://github.com/soedinglab/MMseqs2"
   ]
  }
 ],
 "metadata": {
  "kernelspec": {
   "display_name": "Python 3",
   "language": "python",
   "name": "python3"
  },
  "language_info": {
   "codemirror_mode": {
    "name": "ipython",
    "version": 3
   },
   "file_extension": ".py",
   "mimetype": "text/x-python",
   "name": "python",
   "nbconvert_exporter": "python",
   "pygments_lexer": "ipython3",
   "version": "3.7.9"
  }
 },
 "nbformat": 4,
 "nbformat_minor": 5
}
